{
  "nbformat": 4,
  "nbformat_minor": 0,
  "metadata": {
    "colab": {
      "provenance": [],
      "authorship_tag": "ABX9TyPcK9I5wqTIrHcxKdfDaB8f",
      "include_colab_link": true
    },
    "kernelspec": {
      "name": "python3",
      "display_name": "Python 3"
    },
    "language_info": {
      "name": "python"
    },
    "accelerator": "GPU",
    "gpuClass": "standard"
  },
  "cells": [
    {
      "cell_type": "markdown",
      "metadata": {
        "id": "view-in-github",
        "colab_type": "text"
      },
      "source": [
        "<a href=\"https://colab.research.google.com/github/nnilayy/Detectron2/blob/main/Detectron2.ipynb\" target=\"_parent\"><img src=\"https://colab.research.google.com/assets/colab-badge.svg\" alt=\"Open In Colab\"/></a>"
      ]
    },
    {
      "cell_type": "code",
      "execution_count": null,
      "metadata": {
        "id": "xNNgrNakhqx-"
      },
      "outputs": [],
      "source": [
        "!pip install pyyaml==5.1"
      ]
    },
    {
      "cell_type": "code",
      "source": [
        "!pip install torch==1.7.1+cu101 torchvision==0.8.2+cu101 torchaudio==0.7.2 -f https://download.pytorch.org/whl/torch stable.html"
      ],
      "metadata": {
        "colab": {
          "base_uri": "https://localhost:8080/"
        },
        "id": "xxV1iR89juUm",
        "outputId": "14591bd1-17b3-4de6-8431-f72e9a584986"
      },
      "execution_count": 4,
      "outputs": [
        {
          "output_type": "stream",
          "name": "stdout",
          "text": [
            "Looking in indexes: https://pypi.org/simple, https://us-python.pkg.dev/colab-wheels/public/simple/\n",
            "Looking in links: https://download.pytorch.org/whl/torch\n",
            "Collecting torch==1.7.1+cu101\n",
            "  Downloading https://download.pytorch.org/whl/cu101/torch-1.7.1%2Bcu101-cp38-cp38-linux_x86_64.whl (735.4 MB)\n",
            "\u001b[K     |████████████████████████████████| 735.4 MB 5.9 kB/s \n",
            "\u001b[31mERROR: Could not find a version that satisfies the requirement torchvision==0.8.2+cu101 (from versions: 0.1.6, 0.1.7, 0.1.8, 0.1.9, 0.2.0, 0.2.1, 0.2.2, 0.2.2.post2, 0.2.2.post3, 0.5.0, 0.6.0, 0.6.1, 0.7.0, 0.8.0, 0.8.1, 0.8.2, 0.9.0, 0.9.1, 0.10.0, 0.10.1, 0.11.0, 0.11.1, 0.11.2, 0.11.3, 0.12.0, 0.13.0, 0.13.1, 0.14.0, 0.14.1)\u001b[0m\n",
            "\u001b[31mERROR: No matching distribution found for torchvision==0.8.2+cu101\u001b[0m\n",
            "\u001b[?25h"
          ]
        }
      ]
    },
    {
      "cell_type": "code",
      "source": [
        "import torch \n",
        "print(torch.__version__)\n",
        "print(torch.cuda.is_available())"
      ],
      "metadata": {
        "colab": {
          "base_uri": "https://localhost:8080/"
        },
        "id": "ToCasuPnkfI9",
        "outputId": "f02dff65-37b5-4980-9aec-7f5bdbc4b933"
      },
      "execution_count": 5,
      "outputs": [
        {
          "output_type": "stream",
          "name": "stdout",
          "text": [
            "1.13.0+cu116\n",
            "True\n"
          ]
        }
      ]
    },
    {
      "cell_type": "code",
      "source": [
        "#WOULD HAVE TO RESTART RUN-TIME\n",
        "!pip install detectron2 -f https://dl.fbaipublicfiles.com/detectron2/wheels/cu101/torch1.10/index.html"
      ],
      "metadata": {
        "id": "vHyBNZ-klAfE"
      },
      "execution_count": null,
      "outputs": []
    },
    {
      "cell_type": "code",
      "source": [
        "import detectron2 \n",
        "from detectron2.utils.logger import setup_logger\n",
        "# setup_logger()\n",
        "# YOU'LL GET AN ERROR HERE, IF THE VERSIONS DO LINE UP PROPERLY\n",
        "from detectron2 import model_zoo\n",
        "from detectron2.engine import DefaultPredictor\n",
        "from detectron2.config import get_cfg\n",
        "from detectron2.utils.visualizer import Visualizer\n",
        "from detectron2.data import MetadataCatalog, DatasetCatalog\n",
        "import cv2\n",
        "from google.colab.patches import cv2_imshow"
      ],
      "metadata": {
        "id": "pLTgZda3lfyf"
      },
      "execution_count": null,
      "outputs": []
    },
    {
      "cell_type": "code",
      "source": [],
      "metadata": {
        "id": "A_SAS1R3nKch"
      },
      "execution_count": null,
      "outputs": []
    },
    {
      "cell_type": "code",
      "source": [
        "cfg = get_cfg()\n",
        "cfg.merge_from_file(model_zoo.get_config_file(\"COCO-Detection/faster_rcnn_X_101_32x8d_FPN_3x.yaml\")) \n",
        "cfg.MODEL.WEIGHTS=model_zoo.get_checkpoint_url(\"COCO-Detection/faster_rcnn_X_101_32x8d_FPN_3x.yaml\")\n",
        "cfg.MODEL.ROI.HEADS.SCORE_THRESH_TEST = 0.6"
      ],
      "metadata": {
        "id": "eeuGf_efnK-P"
      },
      "execution_count": null,
      "outputs": []
    },
    {
      "cell_type": "code",
      "source": [
        "predictor=DefaultPredictor(cfg) \n",
        "outputs=predictor(image)"
      ],
      "metadata": {
        "id": "9v9lMbjWnfL_"
      },
      "execution_count": null,
      "outputs": []
    },
    {
      "cell_type": "markdown",
      "source": [
        "VISUALIZING THE RESULTS "
      ],
      "metadata": {
        "id": "lxsAQyNZoVOb"
      }
    },
    {
      "cell_type": "code",
      "source": [
        "viz=Visualizer(image[:,:,::-1], MetadataCatalog.get(cfg.DATASETS.TRAIN[0])) \n",
        "output=viz.draw_instance_predictions(outputs[\"instances\"]) \n",
        "# output=viz.draw_instance_predictions(outputs[\"instances\"].to(\"cpu\"))\n",
        "cv2.imshow(output.get_image()[:,:,::-1])"
      ],
      "metadata": {
        "id": "ZR5G14gUn1EC"
      },
      "execution_count": null,
      "outputs": []
    }
  ]
}