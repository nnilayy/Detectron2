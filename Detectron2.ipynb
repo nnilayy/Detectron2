{
  "nbformat": 4,
  "nbformat_minor": 0,
  "metadata": {
    "colab": {
      "provenance": [],
      "authorship_tag": "ABX9TyNhIGm7ySlg0Ct6zeDvdwX0",
      "include_colab_link": true
    },
    "kernelspec": {
      "name": "python3",
      "display_name": "Python 3"
    },
    "language_info": {
      "name": "python"
    },
    "accelerator": "GPU",
    "gpuClass": "standard"
  },
  "cells": [
    {
      "cell_type": "markdown",
      "metadata": {
        "id": "view-in-github",
        "colab_type": "text"
      },
      "source": [
        "<a href=\"https://colab.research.google.com/github/nnilayy/Detectron2/blob/main/Detectron2.ipynb\" target=\"_parent\"><img src=\"https://colab.research.google.com/assets/colab-badge.svg\" alt=\"Open In Colab\"/></a>"
      ]
    },
    {
      "cell_type": "markdown",
      "source": [
        "DETECTRON2 IMPLEMENTATION "
      ],
      "metadata": {
        "id": "AaYc6DgP1tRT"
      }
    },
    {
      "cell_type": "code",
      "execution_count": null,
      "metadata": {
        "id": "xNNgrNakhqx-"
      },
      "outputs": [],
      "source": [
        "!python -m pip install 'git+https://github.com/facebookresearch/detectron2.git'"
      ]
    },
    {
      "cell_type": "code",
      "source": [
        "!nvidia-smi"
      ],
      "metadata": {
        "colab": {
          "base_uri": "https://localhost:8080/"
        },
        "id": "_3zxcr4G0zbK",
        "outputId": "ff67007c-314f-44b7-eb3d-af5cc1a59c58"
      },
      "execution_count": null,
      "outputs": [
        {
          "output_type": "stream",
          "name": "stdout",
          "text": [
            "Wed Dec 21 17:57:39 2022       \n",
            "+-----------------------------------------------------------------------------+\n",
            "| NVIDIA-SMI 460.32.03    Driver Version: 460.32.03    CUDA Version: 11.2     |\n",
            "|-------------------------------+----------------------+----------------------+\n",
            "| GPU  Name        Persistence-M| Bus-Id        Disp.A | Volatile Uncorr. ECC |\n",
            "| Fan  Temp  Perf  Pwr:Usage/Cap|         Memory-Usage | GPU-Util  Compute M. |\n",
            "|                               |                      |               MIG M. |\n",
            "|===============================+======================+======================|\n",
            "|   0  Tesla T4            Off  | 00000000:00:04.0 Off |                    0 |\n",
            "| N/A   36C    P0    26W /  70W |      0MiB / 15109MiB |      0%      Default |\n",
            "|                               |                      |                  N/A |\n",
            "+-------------------------------+----------------------+----------------------+\n",
            "                                                                               \n",
            "+-----------------------------------------------------------------------------+\n",
            "| Processes:                                                                  |\n",
            "|  GPU   GI   CI        PID   Type   Process name                  GPU Memory |\n",
            "|        ID   ID                                                   Usage      |\n",
            "|=============================================================================|\n",
            "|  No running processes found                                                 |\n",
            "+-----------------------------------------------------------------------------+\n"
          ]
        }
      ]
    },
    {
      "cell_type": "code",
      "source": [
        "import torch, detectron2\n",
        "!nvcc --version\n",
        "TORCH_VERSION = \".\".join(torch.__version__.split(\".\")[:2])\n",
        "CUDA_VERSION = torch.__version__.split(\"+\")[-1]\n",
        "print(\"torch: \", TORCH_VERSION, \"; cuda: \", CUDA_VERSION)\n",
        "print(\"detectron2:\", detectron2.__version__)"
      ],
      "metadata": {
        "id": "pSy9nSPJ0EtO"
      },
      "execution_count": null,
      "outputs": []
    },
    {
      "cell_type": "markdown",
      "source": [
        "IMPORTING DEPENDENCIES"
      ],
      "metadata": {
        "id": "UWW4j_Oc7RxJ"
      }
    },
    {
      "cell_type": "code",
      "source": [
        "import detectron2 \n",
        "import cv2\n",
        "import multiprocessing as mp\n",
        "import os\n",
        "from detectron2 import model_zoo\n",
        "from detectron2.config import get_cfg\n",
        "from google.colab.patches import cv2_imshow\n",
        "from detectron2.utils.logger import setup_logger\n",
        "from detectron2.utils.visualizer import Visualizer, ColorMode\n",
        "from detectron2.data.datasets import register_coco_instances\n",
        "from detectron2.engine import DefaultTrainer, DefaultPredictor\n",
        "from detectron2.data import MetadataCatalog, DatasetCatalog"
      ],
      "metadata": {
        "id": "pLTgZda3lfyf"
      },
      "execution_count": 137,
      "outputs": []
    },
    {
      "cell_type": "markdown",
      "source": [
        "FILE STRUCTURE FOR THE MODEL"
      ],
      "metadata": {
        "id": "xIjS172l7Znx"
      }
    },
    {
      "cell_type": "code",
      "source": [
        "# TRAIN SET\n",
        "train_name=\"train\"\n",
        "train_path=\"img/train\"\n",
        "train_annotations=\"train.json\"\n",
        "register_coco_instances(train_name,{},train_annotation,train_path)\n",
        "\n",
        "# TEST SET\n",
        "test_name=\"test\"\n",
        "test_path=\"img/test\"\n",
        "test_annotations=\"test.json\"\n",
        "register_coco_instances(test_name,{},test_annotation,test_path)\n",
        "\n",
        "# MENTIONING THE CLASSES\n",
        "classes=['Homer', 'Marge', 'Maggie', 'Lisa', 'Bart'] "
      ],
      "metadata": {
        "id": "Hhykm94Bj2WE"
      },
      "execution_count": null,
      "outputs": []
    },
    {
      "cell_type": "code",
      "source": [
        "# FOR DIFFERENT TYPES OF MODELS GO TO THE FOLLOWING SITE\n",
        "# https://github.com/facebookresearch/detectron2/blob/main/MODEL_ZOO.md#license\n",
        "\n",
        "\n",
        "# ----------------------------------------------------------------------------------------------\n",
        "# ----------------------------------------------------------------------------------------------\n",
        "# IMAGE SEGMENTATION MODELS\n",
        "model_seg=[\n",
        "#(0)R50-C4: \n",
        "\"COCO-InstanceSegmentation/mask_rcnn_R_50_C4_1x.yaml\",\n",
        "\n",
        "#(1)R50-DC5: \n",
        "\"COCO-InstanceSegmentation/mask_rcnn_R_50_DC5_1x.yaml\",\n",
        "\n",
        "#(2)R50-FPN: \n",
        "\"COCO-InstanceSegmentation/mask_rcnn_R_50_FPN_1x.yaml\",\n",
        "\n",
        "#(3)R50-C4:\t\n",
        "\"COCO-InstanceSegmentation/mask_rcnn_R_50_C4_3x.yaml\",\n",
        "\n",
        "#(4)R50-DC5: \n",
        "\"COCO-InstanceSegmentation/mask_rcnn_R_50_DC5_3x.yaml\",\t\n",
        "\n",
        "#(5)R50-FPN: \n",
        "\"COCO-InstanceSegmentation/mask_rcnn_R_50_FPN_3x.yaml\",\t\n",
        "\n",
        "#(6)R101-C4: \n",
        "\"COCO-InstanceSegmentation/mask_rcnn_R_101_C4_3x.yaml\",\n",
        "\n",
        "#(7)R101-DC5: \n",
        "\"COCO-InstanceSegmentation/mask_rcnn_R_101_DC5_3x.yaml\",\t\n",
        "\n",
        "#(8)R101-FPN:\t\n",
        "\"COCO-InstanceSegmentation/mask_rcnn_R_101_FPN_3x.yaml\",\n",
        "\n",
        "#(9)X101-FPN: \n",
        "\"COCO-InstanceSegmentation/mask_rcnn_X_101_32x8d_FPN_3x.yaml\",\n",
        "]\n",
        "# ----------------------------------------------------------------------------------------------\n",
        "# ----------------------------------------------------------------------------------------------\n",
        "\n"
      ],
      "metadata": {
        "id": "3e8YAtOw4Y6W"
      },
      "execution_count": null,
      "outputs": []
    },
    {
      "cell_type": "markdown",
      "source": [
        "ASSIGNING THE MODEL"
      ],
      "metadata": {
        "id": "bT09owuh6weI"
      }
    },
    {
      "cell_type": "code",
      "source": [
        "model=model_seg[0]"
      ],
      "metadata": {
        "id": "M4PiMquw5ssT"
      },
      "execution_count": null,
      "outputs": []
    },
    {
      "cell_type": "markdown",
      "source": [
        "TRAINING THE MODEL"
      ],
      "metadata": {
        "id": "5tKcAfEuJW1O"
      }
    },
    {
      "cell_type": "code",
      "source": [
        "cfg = get_cfg()\n",
        "cfg.merge_from_file(model_zoo.get_config_file(model))\n",
        "cfg.MODEL.WEIGHTS=model_zoo.get_checkpoint_url(model)\n",
        "cfg.MODEL.ROI_HEADS.NUM_CLASSES = len(classes)\n",
        "cfg.DATASETS.TRAIN = (train_name)\n",
        "cfg.DATASETS.TEST = (test_name)\n",
        "\n",
        "cfg.SOLVER.MAX_ITER = 600\n",
        "cfg.SOLVER.IMS_PER_BATCH = 4\n",
        "cfg.MODEL.ROI_HEADS.BATCH_SIZE_PER_IMAGE = 512\n",
        "cfg.SOLVER.BASE_LR = 0.001\n",
        "cfg.TEST.EVAL_PERIOD = 200\n",
        "\n",
        "cfg.DATALOADER.NUM_WORKERS= mp.cpu_count()\n",
        "cfg.INPUT.MASK_FORMAT='bitmask'\n",
        "cfg.MODEL.DEVICE =\"cuda\" # cpu\n",
        "cfg.OUTPUT_DIR=\"/content/outputModels\""
      ],
      "metadata": {
        "id": "3_Yz_TmRD3Hh"
      },
      "execution_count": null,
      "outputs": []
    },
    {
      "cell_type": "code",
      "source": [
        "os.makedirs(cfg.OUTPUT_DIR, exist_ok=True)\n",
        "trainer = DefaultTrainer(cfg)\n",
        "trainer.resume_or_load(True)\n",
        "trainer.train()"
      ],
      "metadata": {
        "id": "z_-eLc1gEE0I"
      },
      "execution_count": null,
      "outputs": []
    },
    {
      "cell_type": "markdown",
      "source": [
        "TESTING & VISUALIZING THE MODEL"
      ],
      "metadata": {
        "id": "fp_6PRBRH94G"
      }
    },
    {
      "cell_type": "code",
      "source": [
        "# cfg.MODEL.WEIGHTS = os.path.join(cfg.OUTPUT_DIR, \"model_final.pth\")\n",
        "cfg.MODEL.WEIGHTS=\"outputModels/model_final.pth\"\n",
        "cfg.MODEL.ROI_HEADS.SCORE_THRESH_TEST = 0.5\n",
        "cfg.MODEL.DEVICE='cuda' #cpu"
      ],
      "metadata": {
        "id": "mv52mCxPEQ-W"
      },
      "execution_count": null,
      "outputs": []
    },
    {
      "cell_type": "code",
      "source": [
        "predictor=DefaultPredictor(cfg) "
      ],
      "metadata": {
        "id": "lHrNKAVGE_le"
      },
      "execution_count": null,
      "outputs": []
    },
    {
      "cell_type": "code",
      "source": [
        "metadata=MetadataCatalog.get(train_name).set(thing_classes=classes)\n",
        "test_data = DatasetCatalog.get(test_name)"
      ],
      "metadata": {
        "id": "wkWCT9BJub_Y"
      },
      "execution_count": null,
      "outputs": []
    },
    {
      "cell_type": "code",
      "source": [
        "for test_img in test_data:\n",
        "    img = cv2.imread(test_data[\"file_name\"])\n",
        "    outputs = predictor(img)\n",
        "    \n",
        "    visualizer = Visualizer(\n",
        "        img[:, :, ::-1],\n",
        "        metadata, \n",
        "        scale=0.8, \n",
        "        instance_mode=ColorMode.IMAGE_BW\n",
        "    )\n",
        "    out = visualizer.draw_instance_predictions(outputs[\"instances\"].to(\"cpu\"))\n",
        "    cv2_imshow(out.get_image()[:, :, ::-1])"
      ],
      "metadata": {
        "id": "v1g161mhFWDB"
      },
      "execution_count": null,
      "outputs": []
    },
    {
      "cell_type": "markdown",
      "source": [
        "TENSORBOARD LOSS CURVES AND METRICS"
      ],
      "metadata": {
        "id": "eFz9l9Xdq7gR"
      }
    },
    {
      "cell_type": "code",
      "source": [
        "# Look at training curves in tensorboard:\n",
        "%load_ext tensorboard\n",
        "%tensorboard --logdir $OUTPUT_DIR_PATH"
      ],
      "metadata": {
        "id": "X_wIhHb_pvnQ"
      },
      "execution_count": null,
      "outputs": []
    },
    {
      "cell_type": "markdown",
      "source": [
        "REFERENCES \n",
        "(1)\n",
        "(2)\n",
        "(3)\n",
        "(4)"
      ],
      "metadata": {
        "id": "JFwl0Y8UrSCa"
      }
    },
    {
      "cell_type": "markdown",
      "source": [
        "(1)TAKE CARE OF WEIGHTS FILE"
      ],
      "metadata": {
        "id": "TdJ611-UxIrd"
      }
    }
  ]
}